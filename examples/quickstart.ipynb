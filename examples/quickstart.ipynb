{
 "cells": [
  {
   "cell_type": "markdown",
   "metadata": {},
   "source": [
    "# Quickstart"
   ]
  },
  {
   "cell_type": "markdown",
   "metadata": {},
   "source": [
    "Alice, Bob and Eve work at Critical Labs. The threesome are avid ping pong players. And they're all incredibly competitive. One day, Eve has an idea... in an attempt to find out who actually is <i>The Best Ping Pong Player in the Office</i> she's offered to design a system to keep track of everyone's [Elo rankings](https://en.wikipedia.org/wiki/Elo_rating_system). \n",
    "\n",
    "Alice and Bob are cool with her code, so they just let her keep a ledger:"
   ]
  },
  {
   "cell_type": "code",
   "execution_count": 1,
   "metadata": {},
   "outputs": [],
   "source": [
    "def calculate_elo(winner, loser, k=32):\n",
    "    expected_probability_winner = 1 / ( 1 + 10**((loser - winner)/400) )\n",
    "    expected_probability_loser = 1 - expected_probability_winner\n",
    "    winner = round(winner + k*(1 - expected_probability_winner))\n",
    "    loser = round(loser + k*(0 - expected_probability_loser))\n",
    "    return winner, loser\n",
    "\n",
    "def update_elo(winner, loser, rankings):\n",
    "    rankings[winner], rankings[loser] = calculate_elo(\n",
    "    rankings[winner], rankings[loser])\n",
    "    return rankings"
   ]
  },
  {
   "cell_type": "markdown",
   "metadata": {},
   "source": [
    "Eve starts each coworker at an Elo ranking of 1000:"
   ]
  },
  {
   "cell_type": "code",
   "execution_count": 2,
   "metadata": {},
   "outputs": [],
   "source": [
    "pong = {'alice': 1000, 'bob': 1000, 'eve': 1000}"
   ]
  },
  {
   "cell_type": "markdown",
   "metadata": {},
   "source": [
    "In the first officially tracked game, Alice beats Bob. Accordingly, Eve updates their Elo scores to reflect the outcome: "
   ]
  },
  {
   "cell_type": "code",
   "execution_count": 3,
   "metadata": {},
   "outputs": [
    {
     "data": {
      "text/plain": [
       "{'alice': 1016, 'bob': 984, 'eve': 1000}"
      ]
     },
     "execution_count": 3,
     "metadata": {},
     "output_type": "execute_result"
    }
   ],
   "source": [
    "update_elo(winner='alice', loser='bob', rankings=pong)"
   ]
  },
  {
   "cell_type": "markdown",
   "metadata": {},
   "source": [
    "On the same day Eve then beats Alice:"
   ]
  },
  {
   "cell_type": "code",
   "execution_count": 4,
   "metadata": {},
   "outputs": [
    {
     "data": {
      "text/plain": [
       "{'alice': 999, 'bob': 984, 'eve': 1017}"
      ]
     },
     "execution_count": 4,
     "metadata": {},
     "output_type": "execute_result"
    }
   ],
   "source": [
    "update_elo(winner='eve', loser='alice', rankings=pong)"
   ]
  },
  {
   "cell_type": "markdown",
   "metadata": {},
   "source": [
    "And then Bob beats Alice, and crushes Eve shortly afterward:"
   ]
  },
  {
   "cell_type": "code",
   "execution_count": 5,
   "metadata": {},
   "outputs": [
    {
     "data": {
      "text/plain": [
       "{'alice': 982, 'bob': 1018, 'eve': 1000}"
      ]
     },
     "execution_count": 5,
     "metadata": {},
     "output_type": "execute_result"
    }
   ],
   "source": [
    "update_elo(winner='bob', loser='alice', rankings=pong)\n",
    "update_elo(winner='bob', loser='eve', rankings=pong)"
   ]
  },
  {
   "cell_type": "markdown",
   "metadata": {},
   "source": [
    "Just before she goes home, Eve pickles the rankings:"
   ]
  },
  {
   "cell_type": "code",
   "execution_count": 6,
   "metadata": {},
   "outputs": [],
   "source": [
    "import pickle\n",
    "with open('pong.pkl', 'wb') as f:\n",
    "    pickle.dump(pong, f)\n",
    "del pong"
   ]
  },
  {
   "cell_type": "markdown",
   "metadata": {},
   "source": [
    "At lunch the next day Alice beats Eve, Bob beats Eve, and then Alice beats Eve, again:"
   ]
  },
  {
   "cell_type": "code",
   "execution_count": 7,
   "metadata": {},
   "outputs": [],
   "source": [
    "with open('pong.pkl', 'rb') as f:\n",
    "    pong = pickle.load(f)"
   ]
  },
  {
   "cell_type": "code",
   "execution_count": 8,
   "metadata": {},
   "outputs": [
    {
     "data": {
      "text/plain": [
       "{'alice': 1014, 'bob': 1032, 'eve': 954}"
      ]
     },
     "execution_count": 8,
     "metadata": {},
     "output_type": "execute_result"
    }
   ],
   "source": [
    "update_elo(winner='alice', loser='eve', rankings=pong)\n",
    "update_elo(winner='bob', loser='eve', rankings=pong)\n",
    "update_elo(winner='alice', loser='eve', rankings=pong)"
   ]
  },
  {
   "cell_type": "markdown",
   "metadata": {},
   "source": [
    "Eve is pretty upset that she's at the bottom of the totem pole... so she decides to cook the books once Bob and Alice leave work:"
   ]
  },
  {
   "cell_type": "code",
   "execution_count": 9,
   "metadata": {},
   "outputs": [
    {
     "data": {
      "text/plain": [
       "{'alice': 974, 'bob': 1032, 'eve': 994}"
      ]
     },
     "execution_count": 9,
     "metadata": {},
     "output_type": "execute_result"
    }
   ],
   "source": [
    "pong = {'alice': 1014, 'bob': 1032, 'eve': 954}\n",
    "pong['eve'] += 40\n",
    "pong['alice'] -= 40\n",
    "pong"
   ]
  },
  {
   "cell_type": "code",
   "execution_count": 10,
   "metadata": {},
   "outputs": [],
   "source": [
    "with open('pong.pkl', 'wb') as f:\n",
    "    pickle.dump(pong, f)\n",
    "del pong"
   ]
  },
  {
   "cell_type": "markdown",
   "metadata": {},
   "source": [
    "On *Day 3* of this little Elo experiment, Alice beats Eve, but then Eve beats Bob:"
   ]
  },
  {
   "cell_type": "code",
   "execution_count": 11,
   "metadata": {},
   "outputs": [],
   "source": [
    "with open('pong.pkl', 'rb') as f:\n",
    "    pong = pickle.load(f)"
   ]
  },
  {
   "cell_type": "code",
   "execution_count": 12,
   "metadata": {},
   "outputs": [
    {
     "data": {
      "text/plain": [
       "{'alice': 991, 'bob': 1013, 'eve': 996}"
      ]
     },
     "execution_count": 12,
     "metadata": {},
     "output_type": "execute_result"
    }
   ],
   "source": [
    "update_elo(winner='alice', loser='eve', rankings=pong)\n",
    "update_elo(winner='eve', loser='bob', rankings=pong)"
   ]
  },
  {
   "cell_type": "markdown",
   "metadata": {},
   "source": [
    "Alice asks Eve to show her the rankings to see how things are going:"
   ]
  },
  {
   "cell_type": "code",
   "execution_count": 13,
   "metadata": {},
   "outputs": [
    {
     "data": {
      "text/plain": [
       "{'alice': 991, 'bob': 1013, 'eve': 996}"
      ]
     },
     "execution_count": 13,
     "metadata": {},
     "output_type": "execute_result"
    }
   ],
   "source": [
    "pong"
   ]
  },
  {
   "cell_type": "markdown",
   "metadata": {},
   "source": [
    "Alice: \"How the hell are you higher than me!\"\n",
    "\n",
    "Eve: \"Idk, I guess I'm just better... get over it\"\n",
    "\n",
    "Alice: \"You are NOT! I beat you at least three or four times\"\n",
    "\n",
    "Eve: \"Yeah and then I just beat Bob a couple times, that's how it works\"\n",
    "\n",
    "Alice: \"🐍\""
   ]
  },
  {
   "cell_type": "code",
   "execution_count": 14,
   "metadata": {},
   "outputs": [],
   "source": [
    "with open('pong.pkl', 'wb') as f:\n",
    "    pickle.dump(pong, f)\n",
    "del pong"
   ]
  },
  {
   "cell_type": "markdown",
   "metadata": {},
   "source": [
    "After her confrontation with Eve, Alice does a bit of research and finds this cool new Python package called [sausagelink](https://github.com/maxhumber/sausagelink) which she thinks might be just what the doctor order.\n",
    "\n",
    "*Day 4*, Alice strolls into into work and tells Eve that she would prefer it if she kept track of everything with `sausagelink`. Eve is hesitant, but eventually acquiesces."
   ]
  },
  {
   "cell_type": "markdown",
   "metadata": {},
   "source": [
    "Eve fires up her ledger:"
   ]
  },
  {
   "cell_type": "code",
   "execution_count": 15,
   "metadata": {},
   "outputs": [],
   "source": [
    "with open('pong.pkl', 'rb') as f:\n",
    "    pong = pickle.load(f)"
   ]
  },
  {
   "cell_type": "markdown",
   "metadata": {},
   "source": [
    "And then installs the package:"
   ]
  },
  {
   "cell_type": "code",
   "execution_count": 16,
   "metadata": {},
   "outputs": [],
   "source": [
    "#! pip install sausage link"
   ]
  },
  {
   "cell_type": "markdown",
   "metadata": {},
   "source": [
    "Not trusting Eve, Alice forces her immediately add the rankings as a `Sausage` to a `Link`:"
   ]
  },
  {
   "cell_type": "code",
   "execution_count": 17,
   "metadata": {},
   "outputs": [],
   "source": [
    "from sausagelink import Sausage, Link\n",
    "pong = Link(pong)"
   ]
  },
  {
   "cell_type": "markdown",
   "metadata": {},
   "source": [
    "> Note: `Link` accepts raw data or `Sausage` data objects and handles them accordingly."
   ]
  },
  {
   "cell_type": "code",
   "execution_count": 18,
   "metadata": {},
   "outputs": [
    {
     "data": {
      "text/plain": [
       "[⎨0⎬]"
      ]
     },
     "execution_count": 18,
     "metadata": {},
     "output_type": "execute_result"
    }
   ],
   "source": [
    "pong"
   ]
  },
  {
   "cell_type": "code",
   "execution_count": 19,
   "metadata": {},
   "outputs": [
    {
     "data": {
      "text/plain": [
       "⎨0⎬"
      ]
     },
     "execution_count": 19,
     "metadata": {},
     "output_type": "execute_result"
    }
   ],
   "source": [
    "pong[0] # heeehehheee looks like a sausage"
   ]
  },
  {
   "cell_type": "code",
   "execution_count": 20,
   "metadata": {},
   "outputs": [
    {
     "data": {
      "text/plain": [
       "['data', 'grill', 'index', 'previous_sizzle', 'rancid', 'sizzle', 'timestamp']"
      ]
     },
     "execution_count": 20,
     "metadata": {},
     "output_type": "execute_result"
    }
   ],
   "source": [
    "[method for method in dir(pong[0]) if not method.startswith('__')]"
   ]
  },
  {
   "cell_type": "code",
   "execution_count": 21,
   "metadata": {},
   "outputs": [
    {
     "data": {
      "text/plain": [
       "{'alice': 991, 'bob': 1013, 'eve': 996}"
      ]
     },
     "execution_count": 21,
     "metadata": {},
     "output_type": "execute_result"
    }
   ],
   "source": [
    "pong[0].data"
   ]
  },
  {
   "cell_type": "markdown",
   "metadata": {},
   "source": [
    "Eve: \"There. Are you happy!\"\n",
    "\n",
    "Alice: \"Actually... yes. Yes I am. Thank you. \\*cough\\* <sub>cheater</sub> \\*cough\\* \\*cough\\*\"\n",
    "\n",
    "Eve: \"What did you say?\"\n",
    "\n",
    "Alice: \"Nothing\""
   ]
  },
  {
   "cell_type": "markdown",
   "metadata": {},
   "source": [
    "At lunch, Alice beats Eve, Eve beats Bob, but then Bob beats Eve:"
   ]
  },
  {
   "cell_type": "code",
   "execution_count": 22,
   "metadata": {},
   "outputs": [],
   "source": [
    "from copy import deepcopy\n",
    "day_4 = deepcopy(pong[0].data)"
   ]
  },
  {
   "cell_type": "code",
   "execution_count": 23,
   "metadata": {},
   "outputs": [
    {
     "data": {
      "text/plain": [
       "{'alice': 991, 'bob': 1013, 'eve': 996}"
      ]
     },
     "execution_count": 23,
     "metadata": {},
     "output_type": "execute_result"
    }
   ],
   "source": [
    "day_4"
   ]
  },
  {
   "cell_type": "code",
   "execution_count": 24,
   "metadata": {},
   "outputs": [
    {
     "data": {
      "text/plain": [
       "{'alice': 1007, 'bob': 1011, 'eve': 982}"
      ]
     },
     "execution_count": 24,
     "metadata": {},
     "output_type": "execute_result"
    }
   ],
   "source": [
    "update_elo(winner='alice', loser='eve', rankings=day_4)\n",
    "update_elo(winner='eve', loser='bob', rankings=day_4)\n",
    "update_elo(winner='bob', loser='eve', rankings=day_4)"
   ]
  },
  {
   "cell_type": "code",
   "execution_count": 25,
   "metadata": {},
   "outputs": [],
   "source": [
    "pong.append(day_4)"
   ]
  },
  {
   "cell_type": "code",
   "execution_count": 26,
   "metadata": {},
   "outputs": [
    {
     "data": {
      "text/plain": [
       "[⎨0⎬, ⎨1⎬]"
      ]
     },
     "execution_count": 26,
     "metadata": {},
     "output_type": "execute_result"
    }
   ],
   "source": [
    "pong"
   ]
  },
  {
   "cell_type": "code",
   "execution_count": 27,
   "metadata": {},
   "outputs": [
    {
     "data": {
      "text/plain": [
       "[{'alice': 991, 'bob': 1013, 'eve': 996},\n",
       " {'alice': 1007, 'bob': 1011, 'eve': 982}]"
      ]
     },
     "execution_count": 27,
     "metadata": {},
     "output_type": "execute_result"
    }
   ],
   "source": [
    "[day.data for day in pong]"
   ]
  },
  {
   "cell_type": "markdown",
   "metadata": {},
   "source": [
    "Alice still doesn't trust Eve so she has her prove that she recorded everything properly. \n",
    "Eve runs the `rancid` method on the entire `Link` and then on the first `Sausage`:"
   ]
  },
  {
   "cell_type": "code",
   "execution_count": 28,
   "metadata": {},
   "outputs": [
    {
     "data": {
      "text/plain": [
       "[]"
      ]
     },
     "execution_count": 28,
     "metadata": {},
     "output_type": "execute_result"
    }
   ],
   "source": [
    "pong.rancid()"
   ]
  },
  {
   "cell_type": "code",
   "execution_count": 29,
   "metadata": {},
   "outputs": [
    {
     "data": {
      "text/plain": [
       "False"
      ]
     },
     "execution_count": 29,
     "metadata": {},
     "output_type": "execute_result"
    }
   ],
   "source": [
    "pong[0].rancid()"
   ]
  },
  {
   "cell_type": "markdown",
   "metadata": {},
   "source": [
    "The `Link` comes back empty and the Sausage comes back `False` so Alice is satisfied."
   ]
  },
  {
   "cell_type": "markdown",
   "metadata": {},
   "source": [
    "Just before she heads home, Eve saves the ledger to a new sausagelink-compatible file:"
   ]
  },
  {
   "cell_type": "code",
   "execution_count": 30,
   "metadata": {},
   "outputs": [],
   "source": [
    "pong.refrigerate('pong.sl')\n",
    "del pong"
   ]
  },
  {
   "cell_type": "markdown",
   "metadata": {},
   "source": [
    "On *Day 5*, Eve just gets absolutely demo-ed:"
   ]
  },
  {
   "cell_type": "code",
   "execution_count": 31,
   "metadata": {},
   "outputs": [],
   "source": [
    "pong = Link('pong.sl')"
   ]
  },
  {
   "cell_type": "code",
   "execution_count": 32,
   "metadata": {},
   "outputs": [
    {
     "data": {
      "text/plain": [
       "{'alice': 1007, 'bob': 1011, 'eve': 982}"
      ]
     },
     "execution_count": 32,
     "metadata": {},
     "output_type": "execute_result"
    }
   ],
   "source": [
    "day_5 = deepcopy(pong[-1].data)\n",
    "day_5"
   ]
  },
  {
   "cell_type": "code",
   "execution_count": 33,
   "metadata": {},
   "outputs": [
    {
     "data": {
      "text/plain": [
       "{'alice': 1039, 'bob': 1021, 'eve': 940}"
      ]
     },
     "execution_count": 33,
     "metadata": {},
     "output_type": "execute_result"
    }
   ],
   "source": [
    "update_elo(winner='alice', loser='eve', rankings=day_5)\n",
    "update_elo(winner='bob', loser='eve', rankings=day_5)\n",
    "update_elo(winner='bob', loser='eve', rankings=day_5)\n",
    "update_elo(winner='alice', loser='bob', rankings=day_5)"
   ]
  },
  {
   "cell_type": "markdown",
   "metadata": {},
   "source": [
    "Alice forces Eve to add the results to the `Link`:"
   ]
  },
  {
   "cell_type": "code",
   "execution_count": 34,
   "metadata": {},
   "outputs": [
    {
     "data": {
      "text/plain": [
       "[{'alice': 991, 'bob': 1013, 'eve': 996},\n",
       " {'alice': 1007, 'bob': 1011, 'eve': 982},\n",
       " {'alice': 1039, 'bob': 1021, 'eve': 940}]"
      ]
     },
     "execution_count": 34,
     "metadata": {},
     "output_type": "execute_result"
    }
   ],
   "source": [
    "pong.append(day_5)\n",
    "[day.data for day in pong]"
   ]
  },
  {
   "cell_type": "markdown",
   "metadata": {},
   "source": [
    "Right after work Eve tries to cook the books, again:"
   ]
  },
  {
   "cell_type": "code",
   "execution_count": 35,
   "metadata": {},
   "outputs": [
    {
     "data": {
      "text/plain": [
       "{'alice': 1039, 'bob': 1021, 'eve': 940}"
      ]
     },
     "execution_count": 35,
     "metadata": {},
     "output_type": "execute_result"
    }
   ],
   "source": [
    "pong[-1].data"
   ]
  },
  {
   "cell_type": "code",
   "execution_count": 36,
   "metadata": {},
   "outputs": [],
   "source": [
    "pong[-1].data = {'alice': 1019, 'bob': 1021, 'eve': 960}"
   ]
  },
  {
   "cell_type": "code",
   "execution_count": 37,
   "metadata": {},
   "outputs": [
    {
     "data": {
      "text/plain": [
       "{'alice': 1019, 'bob': 1021, 'eve': 960}"
      ]
     },
     "execution_count": 37,
     "metadata": {},
     "output_type": "execute_result"
    }
   ],
   "source": [
    "pong[-1].data"
   ]
  },
  {
   "cell_type": "code",
   "execution_count": 38,
   "metadata": {},
   "outputs": [],
   "source": [
    "pong.refrigerate('pong.sl')\n",
    "del pong"
   ]
  },
  {
   "cell_type": "markdown",
   "metadata": {},
   "source": [
    "*Day 6*: Alice grabs a copy of `pong.sl` and inspects the data herself:"
   ]
  },
  {
   "cell_type": "code",
   "execution_count": 39,
   "metadata": {},
   "outputs": [],
   "source": [
    "pong = Link('pong.sl')"
   ]
  },
  {
   "cell_type": "code",
   "execution_count": 40,
   "metadata": {},
   "outputs": [
    {
     "data": {
      "text/plain": [
       "{'alice': 1019, 'bob': 1021, 'eve': 960}"
      ]
     },
     "execution_count": 40,
     "metadata": {},
     "output_type": "execute_result"
    }
   ],
   "source": [
    "pong[-1].data"
   ]
  },
  {
   "cell_type": "markdown",
   "metadata": {},
   "source": [
    "Alice: \"What the hell. I do not have 1019. I distinctly remember I had 1039!\"\n",
    "\n",
    "Eve: \"No. You had 1019!\"\n",
    "\n",
    "Bob: \"Actually, Eve, I'm pretty sure Alice had 1039 and you had 940\"\n",
    "\n",
    "Alice: \"Let's check...\""
   ]
  },
  {
   "cell_type": "code",
   "execution_count": 41,
   "metadata": {},
   "outputs": [
    {
     "data": {
      "text/plain": [
       "True"
      ]
     },
     "execution_count": 41,
     "metadata": {},
     "output_type": "execute_result"
    }
   ],
   "source": [
    "pong[-1].rancid()"
   ]
  },
  {
   "cell_type": "markdown",
   "metadata": {},
   "source": [
    "Alice: \"See! I knew it, you screwed with the data after it was inserted\""
   ]
  },
  {
   "cell_type": "code",
   "execution_count": 42,
   "metadata": {},
   "outputs": [
    {
     "name": "stdout",
     "output_type": "stream",
     "text": [
      "f8c6bf94cbbf91139aa6dcc40ef82cc5864e907103cd75b55de1deb6b9533792\n",
      "d50944a78099c354afbe095dbf5a6e80b567d940e6e35d3a9d40508c3421eab6\n"
     ]
    }
   ],
   "source": [
    "data = pong[-1]\n",
    "print(data.grill())\n",
    "print(data.sizzle)"
   ]
  },
  {
   "cell_type": "markdown",
   "metadata": {},
   "source": [
    "Alice: \"The SHA256 digests don't match! That's why `rancid` is returning True!\"\n",
    "\n",
    "Eve: \"Shit...\""
   ]
  },
  {
   "cell_type": "code",
   "execution_count": 43,
   "metadata": {},
   "outputs": [],
   "source": [
    "import os\n",
    "os.remove('pong.pkl')\n",
    "os.remove('pong.sl')"
   ]
  }
 ],
 "metadata": {
  "kernelspec": {
   "display_name": "Python 3",
   "language": "python",
   "name": "python3"
  },
  "language_info": {
   "codemirror_mode": {
    "name": "ipython",
    "version": 3
   },
   "file_extension": ".py",
   "mimetype": "text/x-python",
   "name": "python",
   "nbconvert_exporter": "python",
   "pygments_lexer": "ipython3",
   "version": "3.7.1"
  }
 },
 "nbformat": 4,
 "nbformat_minor": 2
}
